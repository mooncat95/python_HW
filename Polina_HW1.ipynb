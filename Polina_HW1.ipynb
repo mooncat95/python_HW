{
 "cells": [
  {
   "cell_type": "code",
   "execution_count": 4,
   "metadata": {},
   "outputs": [
    {
     "name": "stdout",
     "output_type": "stream",
     "text": [
      "\n",
      "Hi, user\n"
     ]
    }
   ],
   "source": [
    "a = input()\n",
    "if a == \"\":\n",
    "    print(\"Hi, user\")\n",
    "else:\n",
    "    print (\"Hi, \", a, \"!\")"
   ]
  },
  {
   "cell_type": "code",
   "execution_count": 20,
   "metadata": {},
   "outputs": [
    {
     "name": "stdout",
     "output_type": "stream",
     "text": [
      "km = 5.5\n",
      "m =  5500.0\n"
     ]
    }
   ],
   "source": [
    "b = float(input(\"km = \"))\n",
    "b = b*1000\n",
    "print (\"m =\", b)"
   ]
  },
  {
   "cell_type": "code",
   "execution_count": 1,
   "metadata": {},
   "outputs": [
    {
     "name": "stdout",
     "output_type": "stream",
     "text": [
      "Enter your number: -105\n",
      "Your number is negative\n",
      "Your number is odd\n",
      "Your number quite big\n"
     ]
    }
   ],
   "source": [
    "c = int(input(\"Enter your number: \"))\n",
    "if c > 0:\n",
    "    print(\"Your number is positive\")\n",
    "elif c < 0:\n",
    "    print(\"Your number is negative\")\n",
    "else:\n",
    "    print(\"Your number is 0\")\n",
    "\n",
    "if c % 2 == 0:\n",
    "    print(\"Your number is even\")\n",
    "else:\n",
    "    print(\"Your number is odd\")\n",
    "if abs(c) > 100:\n",
    "    print(\"Your number quite big\")\n",
    "elif 50 <= abs(c) < 100:\n",
    "    print(\"Your number is intermediate\")\n",
    "else:\n",
    "    print(\"Your number is small\")"
   ]
  },
  {
   "cell_type": "code",
   "execution_count": 100,
   "metadata": {},
   "outputs": [
    {
     "name": "stdout",
     "output_type": "stream",
     "text": [
      "Enter duration: 245m\n",
      "4h  5m 0s\n"
     ]
    }
   ],
   "source": [
    "d = input(\"Enter duration: \")\n",
    "if d[-1] == \"s\":\n",
    "    seconds = int(d[:-1])\n",
    "    minutes = seconds // 60\n",
    "    seconds = seconds % 60\n",
    "    hours = minutes // 60\n",
    "    minutes = minutes % 60\n",
    "    print(str(hours) + \"h \", str(minutes), \"m \", str(seconds), \"s \")\n",
    "elif d[-1] == \"m\":\n",
    "    minutes = int(d[:-1])\n",
    "    hours = minutes // 60\n",
    "    minutes = minutes % 60\n",
    "    print(str(hours) + \"h \", str(minutes) + \"m 0s\")\n",
    "else:\n",
    "    print(\"Type s or m after your number, please\")"
   ]
  },
  {
   "cell_type": "code",
   "execution_count": 15,
   "metadata": {},
   "outputs": [
    {
     "name": "stdout",
     "output_type": "stream",
     "text": [
      "Coefficient a = -2\n",
      "Coefficient b = 1\n",
      "Coefficient c = 1\n",
      "x1= -0.5 x2= 1.0\n"
     ]
    }
   ],
   "source": [
    "C_a = float(input(\"Coefficient a = \"))\n",
    "C_b = float(input(\"Coefficient b = \"))\n",
    "C_c = float(input(\"Coefficient c = \"))\n",
    "if C_a == 0:\n",
    "    if C_b == 0:\n",
    "        if C_c !=0:\n",
    "            print(\"No roots\")\n",
    "        else:\n",
    "            print(\"Infinite number of roots\")\n",
    "    else:\n",
    "        x1 = -C_c/C_b\n",
    "        print(\"x=\", x1)\n",
    "else:\n",
    "    Discr = C_b**2 - 4*C_a*C_c\n",
    "    if Discr<0:\n",
    "        print(\"No roots\")\n",
    "    else:\n",
    "        x1 = (-C_b + (Discr)**(1/2))/(2*C_a)\n",
    "        x2 = (-C_b - (Discr)**(1/2))/(2*C_a)\n",
    "        if x1 == x2:\n",
    "            print(\"x=\", x1)\n",
    "        else:\n",
    "            print(\"x1=\", x1, \"x2=\", x2)"
   ]
  },
  {
   "cell_type": "code",
   "execution_count": 2,
   "metadata": {},
   "outputs": [
    {
     "data": {
      "text/plain": [
       "4.5"
      ]
     },
     "execution_count": 2,
     "metadata": {},
     "output_type": "execute_result"
    }
   ],
   "source": [
    "9**1/2"
   ]
  },
  {
   "cell_type": "code",
   "execution_count": null,
   "metadata": {},
   "outputs": [],
   "source": []
  },
  {
   "cell_type": "code",
   "execution_count": 48,
   "metadata": {},
   "outputs": [],
   "source": [
    "s = \"0123456789\""
   ]
  },
  {
   "cell_type": "code",
   "execution_count": 49,
   "metadata": {},
   "outputs": [
    {
     "data": {
      "text/plain": [
       "'0'"
      ]
     },
     "execution_count": 49,
     "metadata": {},
     "output_type": "execute_result"
    }
   ],
   "source": [
    "s[0]"
   ]
  },
  {
   "cell_type": "code",
   "execution_count": 50,
   "metadata": {},
   "outputs": [
    {
     "data": {
      "text/plain": [
       "'9'"
      ]
     },
     "execution_count": 50,
     "metadata": {},
     "output_type": "execute_result"
    }
   ],
   "source": [
    "s[-1]"
   ]
  },
  {
   "cell_type": "code",
   "execution_count": 51,
   "metadata": {},
   "outputs": [
    {
     "data": {
      "text/plain": [
       "'8'"
      ]
     },
     "execution_count": 51,
     "metadata": {},
     "output_type": "execute_result"
    }
   ],
   "source": [
    "s[-2]"
   ]
  },
  {
   "cell_type": "code",
   "execution_count": 52,
   "metadata": {},
   "outputs": [
    {
     "data": {
      "text/plain": [
       "'012345678'"
      ]
     },
     "execution_count": 52,
     "metadata": {},
     "output_type": "execute_result"
    }
   ],
   "source": [
    "s[0:-1]"
   ]
  },
  {
   "cell_type": "code",
   "execution_count": 53,
   "metadata": {},
   "outputs": [
    {
     "data": {
      "text/plain": [
       "'0123456789'"
      ]
     },
     "execution_count": 53,
     "metadata": {},
     "output_type": "execute_result"
    }
   ],
   "source": [
    "s[:]"
   ]
  },
  {
   "cell_type": "code",
   "execution_count": 54,
   "metadata": {},
   "outputs": [
    {
     "data": {
      "text/plain": [
       "'123456789'"
      ]
     },
     "execution_count": 54,
     "metadata": {},
     "output_type": "execute_result"
    }
   ],
   "source": [
    "s[1:]"
   ]
  },
  {
   "cell_type": "code",
   "execution_count": 55,
   "metadata": {},
   "outputs": [
    {
     "data": {
      "text/plain": [
       "'012345678'"
      ]
     },
     "execution_count": 55,
     "metadata": {},
     "output_type": "execute_result"
    }
   ],
   "source": [
    "s[:-1]"
   ]
  },
  {
   "cell_type": "code",
   "execution_count": 58,
   "metadata": {},
   "outputs": [
    {
     "data": {
      "text/plain": [
       "'1357'"
      ]
     },
     "execution_count": 58,
     "metadata": {},
     "output_type": "execute_result"
    }
   ],
   "source": [
    "s[1:8:2]"
   ]
  },
  {
   "cell_type": "code",
   "execution_count": 57,
   "metadata": {},
   "outputs": [
    {
     "data": {
      "text/plain": [
       "'9876543210'"
      ]
     },
     "execution_count": 57,
     "metadata": {},
     "output_type": "execute_result"
    }
   ],
   "source": [
    "s[::-1]"
   ]
  },
  {
   "cell_type": "code",
   "execution_count": 64,
   "metadata": {},
   "outputs": [],
   "source": [
    "s2 = \"123three345\""
   ]
  },
  {
   "cell_type": "code",
   "execution_count": 65,
   "metadata": {},
   "outputs": [
    {
     "data": {
      "text/plain": [
       "2"
      ]
     },
     "execution_count": 65,
     "metadata": {},
     "output_type": "execute_result"
    }
   ],
   "source": [
    "s2.find(\"3\")"
   ]
  },
  {
   "cell_type": "code",
   "execution_count": 66,
   "metadata": {},
   "outputs": [
    {
     "data": {
      "text/plain": [
       "8"
      ]
     },
     "execution_count": 66,
     "metadata": {},
     "output_type": "execute_result"
    }
   ],
   "source": [
    "s2.rfind(\"3\")"
   ]
  },
  {
   "cell_type": "code",
   "execution_count": 73,
   "metadata": {},
   "outputs": [
    {
     "data": {
      "text/plain": [
       "'three'"
      ]
     },
     "execution_count": 73,
     "metadata": {},
     "output_type": "execute_result"
    }
   ],
   "source": [
    "s2[s2.find(\"3\") + 1 : s2.rfind(\"3\")]"
   ]
  },
  {
   "cell_type": "code",
   "execution_count": 79,
   "metadata": {},
   "outputs": [
    {
     "name": "stdout",
     "output_type": "stream",
     "text": [
      "i = 0\n",
      "i = 1\n",
      "i = 2\n",
      "i = 3\n",
      "i = 4\n"
     ]
    }
   ],
   "source": [
    "for i in range(5):\n",
    "    stroka = \"i = \" + str(i)\n",
    "    print(stroka)"
   ]
  },
  {
   "cell_type": "code",
   "execution_count": 84,
   "metadata": {},
   "outputs": [],
   "source": [
    "s3 = \"01234567\""
   ]
  },
  {
   "cell_type": "code",
   "execution_count": 85,
   "metadata": {},
   "outputs": [
    {
     "data": {
      "text/plain": [
       "'3'"
      ]
     },
     "execution_count": 85,
     "metadata": {},
     "output_type": "execute_result"
    }
   ],
   "source": [
    "s3[3]"
   ]
  },
  {
   "cell_type": "code",
   "execution_count": 88,
   "metadata": {},
   "outputs": [
    {
     "data": {
      "text/plain": [
       "'012f4567'"
      ]
     },
     "execution_count": 88,
     "metadata": {},
     "output_type": "execute_result"
    }
   ],
   "source": [
    "s3 = s3[:3] + \"f\" + s3[4:]\n",
    "s3"
   ]
  },
  {
   "cell_type": "code",
   "execution_count": null,
   "metadata": {},
   "outputs": [],
   "source": []
  }
 ],
 "metadata": {
  "kernelspec": {
   "display_name": "Python 3",
   "language": "python",
   "name": "python3"
  },
  "language_info": {
   "codemirror_mode": {
    "name": "ipython",
    "version": 3
   },
   "file_extension": ".py",
   "mimetype": "text/x-python",
   "name": "python",
   "nbconvert_exporter": "python",
   "pygments_lexer": "ipython3",
   "version": "3.6.4"
  }
 },
 "nbformat": 4,
 "nbformat_minor": 2
}
