{
 "cells": [
  {
   "cell_type": "code",
   "execution_count": 43,
   "metadata": {},
   "outputs": [
    {
     "name": "stdout",
     "output_type": "stream",
     "text": [
      "Hi, Asya\n",
      "Hi, Lena analyst\n",
      "Hi, Lena geneticist\n",
      "Hi, Polina\n",
      "Hi, Veta\n",
      "Hi, Sasha\n",
      "Hi, everyone!\n"
     ]
    }
   ],
   "source": [
    "friends = ['Asya', 'Lena analyst', 'Lena geneticist', 'Polina', 'Veta', 'Sasha']\n",
    "for i1 in friends:\n",
    "    print(\"Hi,\", i1)\n",
    "print(\"Hi, everyone!\")"
   ]
  },
  {
   "cell_type": "code",
   "execution_count": 44,
   "metadata": {},
   "outputs": [
    {
     "name": "stdout",
     "output_type": "stream",
     "text": [
      "Write down a DNA sequence: ACTCTA\n",
      "TAGAGT"
     ]
    }
   ],
   "source": [
    "DNA = list(input(\"Write down a DNA sequence: \"))\n",
    "Complementary_DNA = [] \n",
    "for j in DNA:\n",
    "    if j == \"A\":\n",
    "        Complementary_DNA.append(\"T\")\n",
    "    elif j == \"C\":\n",
    "        Complementary_DNA.append(\"G\")\n",
    "    elif j == \"G\":\n",
    "        Complementary_DNA.append(\"C\")\n",
    "    elif j == \"T\":\n",
    "        Complementary_DNA.append(\"A\")\n",
    "Reversed_Complementary_DNA = Complementary_DNA[::-1]\n",
    "for i in Reversed_Complementary_DNA:\n",
    "    print(i, end=\"\")"
   ]
  },
  {
   "cell_type": "code",
   "execution_count": 3,
   "metadata": {},
   "outputs": [
    {
     "name": "stdout",
     "output_type": "stream",
     "text": [
      "Write down a DNA sequence: ACTTG\n",
      "Complementary DNA is TGAAC\n"
     ]
    }
   ],
   "source": [
    "DNA = list(input(\"Write down a DNA sequence: \"))\n",
    "Complementary_DNA = [] \n",
    "compl_nucl = {\"A\":\"T\", \"C\":\"G\", \"T\":\"A\", \"G\":\"C\"}\n",
    "for nucl in DNA:\n",
    "    Complementary_DNA.append(compl_nucl[nucl])\n",
    "print(\"Complementary DNA is\", \"\".join(Complementary_DNA))"
   ]
  },
  {
   "cell_type": "code",
   "execution_count": 56,
   "metadata": {},
   "outputs": [
    {
     "name": "stdout",
     "output_type": "stream",
     "text": [
      "Minimum in this collection is -2\n"
     ]
    }
   ],
   "source": [
    "interesting_numbers = {3, 2, 5, 7, 11, 13, 23, 31, 37, -2}\n",
    "nums = list(interesting_numbers)\n",
    "n = nums[0]\n",
    "for i in nums:\n",
    "    if i < n:\n",
    "        n = i\n",
    "print(\"Minimum in this collection is\", n)"
   ]
  },
  {
   "cell_type": "code",
   "execution_count": 19,
   "metadata": {},
   "outputs": [
    {
     "name": "stdout",
     "output_type": "stream",
     "text": [
      "74\n"
     ]
    }
   ],
   "source": [
    "interesting_numbers = (3, 2, 5, 7, 14, 26, 32, 31, 37)\n",
    "summ = 0\n",
    "for i4 in interesting_numbers:\n",
    "    if i4 % 2 == 0:\n",
    "        summ += i4\n",
    "print(summ)"
   ]
  },
  {
   "cell_type": "code",
   "execution_count": 59,
   "metadata": {},
   "outputs": [
    {
     "name": "stdout",
     "output_type": "stream",
     "text": [
      "[2, 3, 3, 5, 11, 13, 14, 30, 31]\n"
     ]
    }
   ],
   "source": [
    "# Bubble sort\n",
    "numbers = [3, 2, 5, 14, 11, 13, 3, 31, 30]\n",
    "for i in range(len(numbers)):\n",
    "    for j in range(len(numbers) - i - 1):\n",
    "        if numbers[j] > numbers[j + 1]:\n",
    "            numbers[j], numbers[j + 1] = numbers[j + 1], numbers[j]\n",
    "print(numbers)"
   ]
  },
  {
   "cell_type": "code",
   "execution_count": 43,
   "metadata": {},
   "outputs": [
    {
     "name": "stdout",
     "output_type": "stream",
     "text": [
      "What number do you want to find? 5\n",
      "L = 0 U = 4 R = 9\n",
      "L = 0 U = 2 R = 4\n",
      "L = 0 U = 1 R = 2\n",
      "last part\n",
      "L = 2 U = 6 R = 9\n",
      "L = 2 U = 4 R = 5\n",
      "L = 4 U = 5 R = 5\n",
      "5 is 3 times here\n",
      "It is on the 2 - 5 positions\n"
     ]
    }
   ],
   "source": [
    "# Binary search \n",
    "num = int(input(\"What number do you want to find? \"))\n",
    "list1 = [4, 4, 5, 5, 5, 5, 6, 7, 8, 9]\n",
    "right = len(list1) - 1\n",
    "left = 0\n",
    "\n",
    "while right != left:\n",
    "    ptr = (right-left) // 2 + left\n",
    "    print(\"L =\", left, \"U =\", ptr, \"R =\", right)\n",
    "    \n",
    "    if list1[ptr] < num:\n",
    "        left = ptr + 1\n",
    "    else:\n",
    "        right = ptr\n",
    "        \n",
    "if list1[left] != num:\n",
    "    print(\"There is no\", num, \"here\")\n",
    "else:\n",
    "    print(\"last part\")\n",
    "    first_num = left\n",
    "    \n",
    "    right = len(list1) - 1\n",
    "    while right != left:\n",
    "        ptr = (right-left+1) // 2 + left\n",
    "        print(\"L =\", left, \"U =\", ptr, \"R =\", right)\n",
    "\n",
    "        if list1[ptr] > num:\n",
    "            right = ptr - 1\n",
    "        else:\n",
    "            left = ptr\n",
    "            \n",
    "    last_num = right\n",
    "    if first_num == last_num:\n",
    "        print(num, \"is on the\", first_num, \"position\")\n",
    "    else:\n",
    "        print(num, \"is\", last_num - first_num + 1, \n",
    "              \"times here\\nIt is on the\", \n",
    "              first_num, \"-\", last_num, \"positions\")    "
   ]
  }
 ],
 "metadata": {
  "kernelspec": {
   "display_name": "Python 3",
   "language": "python",
   "name": "python3"
  },
  "language_info": {
   "codemirror_mode": {
    "name": "ipython",
    "version": 3
   },
   "file_extension": ".py",
   "mimetype": "text/x-python",
   "name": "python",
   "nbconvert_exporter": "python",
   "pygments_lexer": "ipython3",
   "version": "3.6.4"
  }
 },
 "nbformat": 4,
 "nbformat_minor": 2
}
