{
 "cells": [
  {
   "cell_type": "code",
   "execution_count": 43,
   "metadata": {},
   "outputs": [
    {
     "name": "stdout",
     "output_type": "stream",
     "text": [
      "Hi, Asya\n",
      "Hi, Lena analyst\n",
      "Hi, Lena geneticist\n",
      "Hi, Polina\n",
      "Hi, Veta\n",
      "Hi, Sasha\n",
      "Hi, everyone!\n"
     ]
    }
   ],
   "source": [
    "friends = ['Asya', 'Lena analyst', 'Lena geneticist', 'Polina', 'Veta', 'Sasha']\n",
    "for i1 in friends:\n",
    "    print(\"Hi,\", i1)\n",
    "print(\"Hi, everyone!\")"
   ]
  },
  {
   "cell_type": "code",
   "execution_count": 44,
   "metadata": {},
   "outputs": [
    {
     "name": "stdout",
     "output_type": "stream",
     "text": [
      "Write down a DNA sequence: ACTCTA\n",
      "TAGAGT"
     ]
    }
   ],
   "source": [
    "DNA = list(input(\"Write down a DNA sequence: \"))\n",
    "Complementary_DNA = [] \n",
    "for j in DNA:\n",
    "    if j == \"A\":\n",
    "        Complementary_DNA.append(\"T\")\n",
    "    elif j == \"C\":\n",
    "        Complementary_DNA.append(\"G\")\n",
    "    elif j == \"G\":\n",
    "        Complementary_DNA.append(\"C\")\n",
    "    elif j == \"T\":\n",
    "        Complementary_DNA.append(\"A\")\n",
    "Reversed_Complementary_DNA = Complementary_DNA[::-1]\n",
    "for i in Reversed_Complementary_DNA:\n",
    "    print(i, end=\"\")"
   ]
  },
  {
   "cell_type": "code",
   "execution_count": 33,
   "metadata": {},
   "outputs": [
    {
     "name": "stdout",
     "output_type": "stream",
     "text": [
      "Write down a DNA sequence: ACTGT\n",
      "Complementary DNA is TGACA\n"
     ]
    }
   ],
   "source": [
    "DNA = list(input(\"Write down a DNA sequence: \"))\n",
    "Complementary_DNA = [] \n",
    "compl_nucl = {\"A\":\"T\", \"C\":\"G\", \"T\":\"A\", \"G\":\"C\"}\n",
    "for nucl in DNA:\n",
    "    Complementary_DNA.append(compl_nucl[nucl])\n",
    "print(\"Complementary DNA is\", \"\".join(Complementary_DNA))"
   ]
  },
  {
   "cell_type": "code",
   "execution_count": 22,
   "metadata": {},
   "outputs": [
    {
     "name": "stdout",
     "output_type": "stream",
     "text": [
      "Minimum in this collection is 2\n"
     ]
    }
   ],
   "source": [
    "interesting_numbers = {3, 2, 5, 7, 11, 13, 23, 31, 37, -2}\n",
    "int_num_list = list(interesting_numbers)\n",
    "sorted(int_num_list)\n",
    "print(\"Minimum in this collection is\", int_num_list[0])"
   ]
  },
  {
   "cell_type": "code",
   "execution_count": 19,
   "metadata": {},
   "outputs": [
    {
     "name": "stdout",
     "output_type": "stream",
     "text": [
      "74\n"
     ]
    }
   ],
   "source": [
    "interesting_numbers = (3, 2, 5, 7, 14, 26, 32, 31, 37)\n",
    "summ = 0\n",
    "for i4 in interesting_numbers:\n",
    "    if i4 % 2 == 0:\n",
    "        summ += i4\n",
    "print(summ)"
   ]
  },
  {
   "cell_type": "code",
   "execution_count": 41,
   "metadata": {},
   "outputs": [],
   "source": [
    "# Bubble sort\n",
    "numbers = [3, 2, 5, 7, 11, 13, 23, 31, 37]\n",
    "for i5 in range (0; len(numbers)):"
   ]
  },
  {
   "cell_type": "code",
   "execution_count": null,
   "metadata": {},
   "outputs": [],
   "source": []
  }
 ],
 "metadata": {
  "kernelspec": {
   "display_name": "Python 3",
   "language": "python",
   "name": "python3"
  },
  "language_info": {
   "codemirror_mode": {
    "name": "ipython",
    "version": 3
   },
   "file_extension": ".py",
   "mimetype": "text/x-python",
   "name": "python",
   "nbconvert_exporter": "python",
   "pygments_lexer": "ipython3",
   "version": "3.6.4"
  }
 },
 "nbformat": 4,
 "nbformat_minor": 2
}
